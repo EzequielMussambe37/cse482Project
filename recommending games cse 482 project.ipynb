{
 "cells": [
  {
   "cell_type": "code",
   "execution_count": 1,
   "metadata": {},
   "outputs": [],
   "source": [
    "import pandas as pd\n",
    "games=pd.read_csv(\"games.csv\")\n",
    "import pandas as pd\n",
    "\n",
    "# Read the CSV file into a DataFrame\n",
    "games = pd.read_csv(\"games.csv\")"
   ]
  },
  {
   "cell_type": "code",
   "execution_count": 2,
   "metadata": {},
   "outputs": [
    {
     "name": "stdout",
     "output_type": "stream",
     "text": [
      "Count of times Publisher is different from Developer: 24341\n"
     ]
    }
   ],
   "source": [
    "import pandas as pd\n",
    "\n",
    "# Assuming you have a DataFrame called 'games' with columns 'Developers' and 'Publishers'\n",
    "\n",
    "# Create a new column that indicates whether the Publisher is different from the Developer\n",
    "games['Publisher_Differs'] = games['Publishers'] != games['Developers']\n",
    "\n",
    "# Count the number of times Publisher is different from Developer\n",
    "count_different = games['Publisher_Differs'].sum()\n",
    "\n",
    "# Display the result\n",
    "print(\"Count of times Publisher is different from Developer:\", count_different)\n",
    "\n"
   ]
  },
  {
   "cell_type": "code",
   "execution_count": 3,
   "metadata": {},
   "outputs": [],
   "source": [
    "#!pip install annoy"
   ]
  },
  {
   "cell_type": "code",
   "execution_count": 4,
   "metadata": {
    "scrolled": true
   },
   "outputs": [
    {
     "name": "stdout",
     "output_type": "stream",
     "text": [
      "For the game 'Galactic Bowling', 5 similar recommendations are:\n",
      "1. Football Club Simulator - FCS #21\n",
      "2. Imperivm RTC - HD Edition Great Battles of Rome\n",
      "3. Arena\n",
      "4. Time Keeper\n",
      "5. Dragon Lords: 3D Strategy\n"
     ]
    }
   ],
   "source": [
    "import pandas as pd\n",
    "from sklearn.feature_extraction.text import TfidfVectorizer\n",
    "from sklearn.neighbors import NearestNeighbors\n",
    "\n",
    "# Assuming you have a DataFrame called 'games' with columns 'Name', 'Publishers', and 'Genres'\n",
    "\n",
    "# Preprocess the data\n",
    "games['Publishers'] = games['Publishers'].fillna('')\n",
    "games['Genres'] = games['Genres'].fillna('')\n",
    "games['Features'] = games['Publishers'] + ' ' + games['Genres']\n",
    "\n",
    "# Create a TF-IDF vectorizer to convert text data into numerical features for both genres and combined features\n",
    "tfidf_vectorizer_combined = TfidfVectorizer()\n",
    "tfidf_matrix_combined = tfidf_vectorizer_combined.fit_transform(games['Features'])\n",
    "\n",
    "# Create a TF-IDF vectorizer for genres only\n",
    "tfidf_vectorizer_genres = TfidfVectorizer()\n",
    "tfidf_matrix_genres = tfidf_vectorizer_genres.fit_transform(games['Genres'])\n",
    "\n",
    "# Build a nearest neighbors model for both combined features and genres\n",
    "knn_combined = NearestNeighbors(n_neighbors=6, metric='cosine')\n",
    "knn_genres = NearestNeighbors(n_neighbors=6, metric='cosine')\n",
    "\n",
    "knn_combined.fit(tfidf_matrix_combined)\n",
    "knn_genres.fit(tfidf_matrix_genres)\n",
    "\n",
    "# Function to recommend similar games\n",
    "def recommend_similar_games(game_name):\n",
    "    # Find the index of the given game in the DataFrame\n",
    "    game_index = games[games['Name'] == game_name].index[0]\n",
    "    \n",
    "    # Use the nearest neighbors model to find the most similar games for both combined and genres models\n",
    "    distances_combined, indices_combined = knn_combined.kneighbors(tfidf_matrix_combined[game_index])\n",
    "    distances_genres, indices_genres = knn_genres.kneighbors(tfidf_matrix_genres[game_index])\n",
    "    \n",
    "    # Exclude the input game itself from recommendations for both models\n",
    "    similar_game_indices_combined = indices_combined[0][1:]\n",
    "    similar_game_indices_genres = indices_genres[0][1:]\n",
    "    \n",
    "    # Get the 5 most similar games for both models\n",
    "    similar_games_combined = [games.loc[i]['Name'] for i in similar_game_indices_combined]\n",
    "    similar_games_genres = [games.loc[i]['Name'] for i in similar_game_indices_genres]\n",
    "    \n",
    "    # Check if the priority model (combined) has enough recommendations\n",
    "    if len(similar_games_combined) >= 5:\n",
    "        return similar_games_combined[:5]\n",
    "    else:\n",
    "        # Combine recommendations from the priority model and genres model\n",
    "        combined_recommendations = similar_games_combined + similar_games_genres\n",
    "        \n",
    "        # Remove duplicates and return up to 5 recommendations\n",
    "        unique_combined_recommendations = list(set(combined_recommendations))\n",
    "        return unique_combined_recommendations[:5]\n",
    "\n",
    "# Example usage\n",
    "input_game_name = \"Galactic Bowling\"\n",
    "recommended_games = recommend_similar_games(input_game_name)\n",
    "\n",
    "print(f\"For the game '{input_game_name}', 5 similar recommendations are:\")\n",
    "for i, game in enumerate(recommended_games):\n",
    "    print(f\"{i+1}. {game}\")\n"
   ]
  },
  {
   "cell_type": "code",
   "execution_count": null,
   "metadata": {},
   "outputs": [],
   "source": [
    "games"
   ]
  },
  {
   "cell_type": "code",
   "execution_count": null,
   "metadata": {},
   "outputs": [],
   "source": [
    "games"
   ]
  },
  {
   "cell_type": "code",
   "execution_count": null,
   "metadata": {},
   "outputs": [],
   "source": [
    "editgames=pd.read_csv(\"editGame.csv\")\n",
    "editgames"
   ]
  },
  {
   "cell_type": "code",
   "execution_count": null,
   "metadata": {},
   "outputs": [],
   "source": []
  },
  {
   "cell_type": "code",
   "execution_count": null,
   "metadata": {},
   "outputs": [],
   "source": []
  }
 ],
 "metadata": {
  "kernelspec": {
   "display_name": "Python 3",
   "language": "python",
   "name": "python3"
  },
  "language_info": {
   "codemirror_mode": {
    "name": "ipython",
    "version": 3
   },
   "file_extension": ".py",
   "mimetype": "text/x-python",
   "name": "python",
   "nbconvert_exporter": "python",
   "pygments_lexer": "ipython3",
   "version": "3.6.4"
  }
 },
 "nbformat": 4,
 "nbformat_minor": 2
}
