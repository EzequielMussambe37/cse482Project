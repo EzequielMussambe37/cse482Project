{
 "cells": [
  {
   "cell_type": "code",
   "execution_count": null,
   "metadata": {},
   "outputs": [],
   "source": [
    "#!pip install annoy"
   ]
  },
  {
   "cell_type": "code",
   "execution_count": 1,
   "metadata": {},
   "outputs": [
    {
     "name": "stdout",
     "output_type": "stream",
     "text": [
      "For the game 'Galactic Bowling', 5 similar recommendations are:\n",
      "1. Name: Football Club Simulator - FCS #21, Header image: https://cdn.akamai.steamstatic.com/steam/apps/324090/header.jpg?t=1622140190, Genres: Casual,Simulation,Sports,Strategy\n",
      "2. Name: Imperivm RTC - HD Edition Great Battles of Rome, Header image: https://cdn.akamai.steamstatic.com/steam/apps/752580/header.jpg?t=1629132365, Genres: Strategy\n",
      "3. Name: Arena, Header image: https://cdn.akamai.steamstatic.com/steam/apps/717300/header.jpg?t=1558079788, Genres: Free to Play,Indie,Strategy\n",
      "4. Name: Time Keeper, Header image: https://cdn.akamai.steamstatic.com/steam/apps/1727500/header.jpg?t=1661385291, Genres: Adventure\n",
      "5. Name: Dragon Lords: 3D Strategy, Header image: https://cdn.akamai.steamstatic.com/steam/apps/661960/header.jpg?t=1505189671, Genres: Free to Play,Massively Multiplayer,Strategy\n"
     ]
    }
   ],
   "source": [
    "import pandas as pd\n",
    "from sklearn.feature_extraction.text import TfidfVectorizer\n",
    "from sklearn.neighbors import NearestNeighbors\n",
    "\n",
    "# Read the CSV file into a DataFrame\n",
    "games = pd.read_csv(\"games.csv\")\n",
    "\n",
    "# Preprocess the data\n",
    "games['Publishers'] = games['Publishers'].fillna('')\n",
    "games['Genres'] = games['Genres'].fillna('')\n",
    "games['Features'] = games['Publishers'] + ' ' + games['Genres']\n",
    "\n",
    "# Create a TF-IDF vectorizer for both combined features and genres\n",
    "tfidf_vectorizer_combined = TfidfVectorizer()\n",
    "tfidf_matrix_combined = tfidf_vectorizer_combined.fit_transform(games['Features'])\n",
    "tfidf_vectorizer_genres = TfidfVectorizer()\n",
    "tfidf_matrix_genres = tfidf_vectorizer_genres.fit_transform(games['Genres'])\n",
    "\n",
    "# Build nearest neighbors models for both combined features and genres\n",
    "knn_combined = NearestNeighbors(n_neighbors=6, metric='cosine')\n",
    "knn_genres = NearestNeighbors(n_neighbors=6, metric='cosine')\n",
    "knn_combined.fit(tfidf_matrix_combined)\n",
    "knn_genres.fit(tfidf_matrix_genres)\n",
    "\n",
    "# Function to recommend similar games with \"Header image\" and \"Genres\"\n",
    "def recommend_similar_games(game_name, games_df=games, knn_combined=knn_combined, knn_genres=knn_genres, tfidf_matrix_combined=tfidf_matrix_combined, tfidf_matrix_genres=tfidf_matrix_genres):\n",
    "    # Find the index of the given game in the DataFrame\n",
    "    game_index = games_df[games_df['Name'] == game_name].index[0]\n",
    "    \n",
    "    # Use the nearest neighbors model to find the most similar games for both combined and genres models\n",
    "    distances_combined, indices_combined = knn_combined.kneighbors(tfidf_matrix_combined[game_index])\n",
    "    distances_genres, indices_genres = knn_genres.kneighbors(tfidf_matrix_genres[game_index])\n",
    "    \n",
    "    # Exclude the input game itself from recommendations for both models\n",
    "    similar_game_indices_combined = indices_combined[0][1:]\n",
    "    similar_game_indices_genres = indices_genres[0][1:]\n",
    "    \n",
    "    # Get the 5 most similar games for both models\n",
    "    similar_games_combined = [games_df.loc[i] for i in similar_game_indices_combined]\n",
    "    similar_games_genres = [games_df.loc[i] for i in similar_game_indices_genres]\n",
    "    \n",
    "    # Check if the priority model (combined) has enough recommendations\n",
    "    if len(similar_games_combined) >= 5:\n",
    "        recommended_games = similar_games_combined[:5]\n",
    "    else:\n",
    "        # Combine recommendations from the priority model and genres model\n",
    "        combined_recommendations = similar_games_combined + similar_games_genres\n",
    "        \n",
    "        # Remove duplicates and return up to 5 recommendations\n",
    "        recommended_games = list(set(combined_recommendations))[:5]\n",
    "    \n",
    "    return pd.DataFrame(recommended_games)\n",
    "\n",
    "# Example usage\n",
    "input_game_name = \"Galactic Bowling\"\n",
    "recommended_games_df = recommend_similar_games(input_game_name)\n",
    "\n",
    "if not recommended_games_df.empty:\n",
    "    print(f\"For the game '{input_game_name}', 5 similar recommendations are:\")\n",
    "    for i, (_, game) in enumerate(recommended_games_df.iterrows()):\n",
    "        print(f\"{i + 1}. Name: {game['Name']}, Header image: {game['Header image']}, Genres: {game['Genres']}\")\n",
    "else:\n",
    "    print(f\"No recommendations found for the game '{input_game_name}'.\")\n"
   ]
  },
  {
   "cell_type": "code",
   "execution_count": null,
   "metadata": {},
   "outputs": [],
   "source": [
    "games"
   ]
  },
  {
   "cell_type": "code",
   "execution_count": null,
   "metadata": {},
   "outputs": [],
   "source": [
    "games"
   ]
  },
  {
   "cell_type": "code",
   "execution_count": null,
   "metadata": {},
   "outputs": [],
   "source": [
    "editgames=pd.read_csv(\"editGame.csv\")\n",
    "editgames"
   ]
  },
  {
   "cell_type": "code",
   "execution_count": null,
   "metadata": {},
   "outputs": [],
   "source": []
  },
  {
   "cell_type": "code",
   "execution_count": null,
   "metadata": {},
   "outputs": [],
   "source": []
  },
  {
   "cell_type": "code",
   "execution_count": null,
   "metadata": {},
   "outputs": [],
   "source": []
  }
 ],
 "metadata": {
  "kernelspec": {
   "display_name": "Python 3",
   "language": "python",
   "name": "python3"
  },
  "language_info": {
   "codemirror_mode": {
    "name": "ipython",
    "version": 3
   },
   "file_extension": ".py",
   "mimetype": "text/x-python",
   "name": "python",
   "nbconvert_exporter": "python",
   "pygments_lexer": "ipython3",
   "version": "3.6.4"
  }
 },
 "nbformat": 4,
 "nbformat_minor": 2
}
