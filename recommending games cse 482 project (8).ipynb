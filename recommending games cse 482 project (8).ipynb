{
 "cells": [
  {
   "cell_type": "code",
   "execution_count": null,
   "metadata": {},
   "outputs": [],
   "source": [
    "#!pip install annoy"
   ]
  },
  {
   "cell_type": "code",
   "execution_count": null,
   "metadata": {},
   "outputs": [],
   "source": [
    "import pandas as pd\n",
    "from sklearn.feature_extraction.text import TfidfVectorizer\n",
    "from sklearn.neighbors import NearestNeighbors\n",
    "\n",
    "# Read the CSV file into a DataFrame\n",
    "games = pd.read_csv(\"games.csv\")"
   ]
  },
  {
   "cell_type": "code",
   "execution_count": null,
   "metadata": {},
   "outputs": [],
   "source": [
    "games.drop('Estimated owners', inplace=True, axis=1)\n",
    "games.drop('Peak CCU', inplace=True, axis=1)\n",
    "games.drop('Required age', inplace=True, axis=1)\n",
    "games.drop('DLC count', inplace=True, axis=1)\n",
    "games.drop('Supported languages', inplace=True, axis=1)\n",
    "games.drop('Full audio languages', inplace=True, axis=1)\n",
    "games.drop('Support email', inplace=True, axis=1)\n",
    "games.drop('Support url', inplace=True, axis=1)\n",
    "games.drop('Website', inplace=True, axis=1)\n",
    "games.drop('Windows', inplace=True, axis=1)\n",
    "games.drop('Mac', inplace=True, axis=1)\n",
    "games.drop('Linux', inplace=True, axis=1)\n",
    "games.drop('Screenshots', inplace=True, axis=1)\n",
    "games.drop('Movies', inplace=True, axis=1)\n",
    "games.drop('Achievements', inplace=True, axis=1)\n",
    "games.drop('Notes', inplace=True, axis=1)\n",
    "games.drop('Score rank', inplace=True, axis=1)\n",
    "games.drop('Recommendations', inplace=True, axis=1)\n",
    "games.drop('User score', inplace=True, axis=1)\n",
    "games.drop('Metacritic score', inplace=True, axis=1)\n",
    "games.drop('Metacritic url', inplace=True, axis=1)\n",
    "games.drop('Median playtime forever', inplace=True, axis=1)\n",
    "games.drop('Median playtime two weeks', inplace=True, axis=1)"
   ]
  },
  {
   "cell_type": "code",
   "execution_count": null,
   "metadata": {},
   "outputs": [],
   "source": []
  },
  {
   "cell_type": "code",
   "execution_count": null,
   "metadata": {},
   "outputs": [],
   "source": [
    "type(games['Reviews'])"
   ]
  },
  {
   "cell_type": "code",
   "execution_count": null,
   "metadata": {},
   "outputs": [],
   "source": [
    "games['Reviews']"
   ]
  },
  {
   "cell_type": "code",
   "execution_count": null,
   "metadata": {},
   "outputs": [],
   "source": [
    "games"
   ]
  },
  {
   "cell_type": "code",
   "execution_count": null,
   "metadata": {},
   "outputs": [],
   "source": [
    "import pandas as pd\n",
    "\n",
    "# Count the number of zeros\n",
    "count_zeros = (games['Average playtime forever'] == 0).sum()\n",
    "\n",
    "# Count the number of non-zeros and non-NaNs\n",
    "count_non_zeros = (games['Average playtime forever'] != 0).sum()\n",
    "\n",
    "# Count the number of NaNs\n",
    "count_nans = games['Average playtime forever'].isna().sum()\n",
    "\n",
    "print(f\"Number of zeros: {count_zeros}\")\n",
    "print(f\"Number of non-zeros and non-NaNs: {count_non_zeros}\")\n",
    "print(f\"Number of NaNs: {count_nans}\")\n"
   ]
  },
  {
   "cell_type": "code",
   "execution_count": null,
   "metadata": {},
   "outputs": [],
   "source": [
    "import pandas as pd\n",
    "\n",
    "# Count the number of zeros\n",
    "count_zeros = (games['Reviews'] == 0).sum()\n",
    "\n",
    "# Count the number of non-zeros and non-NaNs\n",
    "count_non_zeros = (games['Reviews'] != 0).sum()\n",
    "\n",
    "# Count the number of NaNs\n",
    "count_nans = games['Average playtime forever'].isna().sum()\n",
    "\n",
    "print(f\"Number of zeros: {count_zeros}\")\n",
    "print(f\"Number of non-zeros and non-NaNs: {count_non_zeros}\")\n",
    "print(f\"Number of NaNs: {count_nans}\")\n"
   ]
  },
  {
   "cell_type": "markdown",
   "metadata": {},
   "source": [
    "# USE THIS: Code for recomsystem.py"
   ]
  },
  {
   "cell_type": "code",
   "execution_count": 1,
   "metadata": {},
   "outputs": [],
   "source": [
    "import pandas as pd\n",
    "from sklearn.feature_extraction.text import TfidfVectorizer\n",
    "from sklearn.neighbors import NearestNeighbors\n",
    "\n",
    "# Read the CSV file into a DataFrame\n",
    "games = pd.read_csv(\"games.csv\")"
   ]
  },
  {
   "cell_type": "code",
   "execution_count": 2,
   "metadata": {},
   "outputs": [],
   "source": [
    "games.drop('Estimated owners', inplace=True, axis=1)\n",
    "games.drop('Peak CCU', inplace=True, axis=1)\n",
    "games.drop('Required age', inplace=True, axis=1)\n",
    "games.drop('DLC count', inplace=True, axis=1)\n",
    "games.drop('Supported languages', inplace=True, axis=1)\n",
    "games.drop('Full audio languages', inplace=True, axis=1)\n",
    "games.drop('Support email', inplace=True, axis=1)\n",
    "games.drop('Support url', inplace=True, axis=1)\n",
    "games.drop('Website', inplace=True, axis=1)\n",
    "games.drop('Windows', inplace=True, axis=1)\n",
    "games.drop('Mac', inplace=True, axis=1)\n",
    "games.drop('Linux', inplace=True, axis=1)\n",
    "games.drop('Screenshots', inplace=True, axis=1)\n",
    "games.drop('Movies', inplace=True, axis=1)\n",
    "games.drop('Achievements', inplace=True, axis=1)\n",
    "games.drop('Notes', inplace=True, axis=1)\n",
    "games.drop('Score rank', inplace=True, axis=1)\n",
    "games.drop('Recommendations', inplace=True, axis=1)\n",
    "games.drop('User score', inplace=True, axis=1)\n",
    "games.drop('Metacritic score', inplace=True, axis=1)\n",
    "games.drop('Metacritic url', inplace=True, axis=1)\n",
    "games.drop('Median playtime forever', inplace=True, axis=1)\n",
    "games.drop('Median playtime two weeks', inplace=True, axis=1)"
   ]
  },
  {
   "cell_type": "code",
   "execution_count": 3,
   "metadata": {},
   "outputs": [
    {
     "name": "stdout",
     "output_type": "stream",
     "text": [
      "Recommended games:\n",
      "Input Game 1: Galactic Bowling, Genres: Casual,Indie,Sports, Tags: Indie,Casual,Sports,Bowling, Recommendation 1: Name: Lift It, Header image: https://cdn.akamai.steamstatic.com/steam/apps/402220/header.jpg?t=1484940879, Genres: Action,Adventure,Casual,Indie,Simulation,Sports, Tags: Sports,Action,Adventure,Indie,Casual,Simulation, Combined Score: 6.451183656726153e-07, Average playtime forever: 447\n",
      "Input Game 2: Don't Drop the Bass, Genres: Casual,Indie,Sports, Tags: Sports,Indie,Casual, Recommendation 2: Name: DUCK CASINO: BULLET, Header image: https://cdn.akamai.steamstatic.com/steam/apps/916970/header.jpg?t=1539257079, Genres: Action,Adventure,Casual,Indie,Simulation,Sports, Tags: Action,Indie,Casual,Simulation,Sports,Adventure, Combined Score: 6.451183656726153e-08, Average playtime forever: 0\n",
      "Input Game 3: Christmas Santa Troubles, Genres: Action,Adventure,Casual,Indie,Sports, Tags: Adventure,Indie,Casual,Sports, Recommendation 3: Name: Kartofank VR, Header image: https://cdn.akamai.steamstatic.com/steam/apps/668510/header.jpg?t=1507808327, Genres: Action,Adventure,Casual,Indie,Simulation,Sports, Tags: Action,Indie,Casual,Adventure,Simulation,Sports,VR, Combined Score: 6.451183656726153e-08, Average playtime forever: 0\n",
      "Input Game 4: Galactic Bowling, Genres: Casual,Indie,Sports, Tags: Indie,Casual,Sports,Bowling, Recommendation 4: Name: Master Pyrox Wizard Smackdown, Header image: https://cdn.akamai.steamstatic.com/steam/apps/861960/header.jpg?t=1553625831, Genres: Action,Casual,Indie,Sports, Tags: Indie,Casual,Action,Sports,Local Multiplayer,Arcade, Combined Score: 6.451183656726153e-08, Average playtime forever: 0\n",
      "Input Game 5: Don't Drop the Bass, Genres: Casual,Indie,Sports, Tags: Sports,Indie,Casual, Recommendation 5: Name: Galactic Orbital Death Sport, Header image: https://cdn.akamai.steamstatic.com/steam/apps/738210/header.jpg?t=1592994579, Genres: Action,Indie,Sports, Tags: Indie,Sports,Action,Multiplayer,Arcade, Combined Score: 6.451183656726153e-08, Average playtime forever: 0\n",
      "Input Game 6: Christmas Santa Troubles, Genres: Action,Adventure,Casual,Indie,Sports, Tags: Adventure,Indie,Casual,Sports, Recommendation 6: Name: Bubble Breaking, Header image: https://cdn.akamai.steamstatic.com/steam/apps/1739060/header.jpg?t=1631187170, Genres: Action,Adventure,Casual,Indie,Sports, Tags: , Combined Score: 0.0, Average playtime forever: 0\n"
     ]
    }
   ],
   "source": [
    "from sklearn.feature_extraction.text import TfidfVectorizer\n",
    "from sklearn.neighbors import NearestNeighbors\n",
    "import pandas as pd\n",
    "\n",
    "def recommend_similar_games(data_frame, input_games_str):\n",
    "    \n",
    "    # Convert the comma-separated string to a list of input games\n",
    "    input_games = [game.strip() for game in input_games_str.split(',')]\n",
    "    \n",
    "    # Review Ratio is the Number of Positive Reviews made on steam of a particular game divided by the total number of steam reviews for that game\n",
    "    games[\"Review Ratio\"]=(games[\"Positive\"]/(games[\"Positive\"]+games[\"Negative\"]))\n",
    "    games[\"Review Sum\"]=(games[\"Positive\"]+games[\"Negative\"])\n",
    "\n",
    "    # steam_total_reviews is the total number of reviews made for all games on steam\n",
    "    steam_total_reviews=sum(games['Review Sum'])\n",
    "    steam_total_reviews\n",
    "\n",
    "    # Combined Score is the # of positive reviews for a game divided by the total number of reviews for all games on steam\n",
    "    games['Combined Score'] = games['Review Ratio'] * (games['Review Sum']/steam_total_reviews)\n",
    "    \n",
    "    # Preprocess the data\n",
    "    data_frame['Genres'] = data_frame['Genres'].fillna('')\n",
    "    data_frame['Combined Score'] = data_frame['Combined Score'].fillna(0)\n",
    "    data_frame['Tags'] = data_frame['Tags'].fillna('')  # Add this line to handle missing Tags\n",
    "    data_frame['Features'] = data_frame['Genres'] + ' ' + data_frame['Combined Score'].astype(str) + ' ' + data_frame['Tags']\n",
    "\n",
    "    # Create a TF-IDF vectorizer for the combined features\n",
    "    tfidf_vectorizer_combined = TfidfVectorizer()\n",
    "    tfidf_matrix_combined = tfidf_vectorizer_combined.fit_transform(data_frame['Features'])\n",
    "\n",
    "    # Build a nearest neighbors model for combined features\n",
    "    knn_combined = NearestNeighbors(n_neighbors=30, metric='cosine')  # Increase n_neighbors to allow for more recommendations\n",
    "    knn_combined.fit(tfidf_matrix_combined)\n",
    "\n",
    "    recommended_games = set()\n",
    "\n",
    "    for input_game_name in input_games:\n",
    "        # Find the index of the given game in the DataFrame\n",
    "        game_index = data_frame[data_frame['Name'] == input_game_name].index[0]\n",
    "\n",
    "        # Use the nearest neighbors model to find the most similar games based on combined features\n",
    "        distances_combined, indices_combined = knn_combined.kneighbors(tfidf_matrix_combined[game_index])\n",
    "\n",
    "        # Get the 6 most similar games based on combined features\n",
    "        similar_game_indices_combined = indices_combined[0]\n",
    "        similar_games_combined = [data_frame.loc[i] for i in similar_game_indices_combined]\n",
    "\n",
    "        # Sort the recommendations by the \"Combined Score\" in descending order\n",
    "        similar_games_combined = sorted(similar_games_combined, key=lambda x: x['Combined Score'], reverse=True)\n",
    "\n",
    "        # Filter out the input games and any duplicates\n",
    "        unique_recommendations = [game for game in similar_games_combined if\n",
    "                                  game['Name'] != input_game_name and game['Name'] not in input_games and game['Name'] not in recommended_games]\n",
    "\n",
    "        # Add unique game names to the set\n",
    "        recommended_games.update(game['Name'] for game in unique_recommendations[:6])\n",
    "\n",
    "    return pd.DataFrame(unique_recommendations[:6])\n",
    "\n",
    "# Example usage with three input games (up to 5)\n",
    "input_games_str = \"Galactic Bowling,Don't Drop the Bass,Christmas Santa Troubles\"\n",
    "recommended_games_df = recommend_similar_games(games, input_games_str)\n",
    "\n",
    "if not recommended_games_df.empty:\n",
    "    print(\"Recommended games:\")\n",
    "    for i, (_, game) in enumerate(recommended_games_df.iterrows()):\n",
    "        input_game_name = input_games_str.split(',')[i % len(input_games_str.split(','))]\n",
    "        input_game_genres = games[games['Name'] == input_game_name]['Genres'].values[0]\n",
    "        input_game_tags = games[games['Name'] == input_game_name]['Tags'].values[0]\n",
    "        print(f\"Input Game {i + 1}: {input_game_name}, Genres: {input_game_genres}, Tags: {input_game_tags}, Recommendation {i + 1}: Name: {game['Name']}, Header image: {game['Header image']}, Genres: {game['Genres']}, Tags: {game['Tags']}, Combined Score: {game['Combined Score']}, Average playtime forever: {game['Average playtime forever']}\")\n",
    "else:\n",
    "    print(\"No recommendations found for the input games.\")\n"
   ]
  },
  {
   "cell_type": "code",
   "execution_count": 5,
   "metadata": {},
   "outputs": [
    {
     "data": {
      "image/png": "[encoded data removed]",
      "text/plain": [
       "<Figure size 720x432 with 1 Axes>"
      ]
     },
     "metadata": {
      "needs_background": "light"
     },
     "output_type": "display_data"
    }
   ],
   "source": [
    "import matplotlib.pyplot as plt\n",
    "\n",
    "# Sort the DataFrame by 'Combined Score' in descending order\n",
    "sorted_games = games.sort_values(by='Combined Score', ascending=False)\n",
    "\n",
    "# Get the top N games (adjust N as needed)\n",
    "top_n = 10\n",
    "top_games = sorted_games.head(top_n)\n",
    "\n",
    "# Create a bar graph\n",
    "fig = plt.figure(figsize=(10, 6))\n",
    "plt.bar(top_games['Name'], top_games['Combined Score'], color='skyblue')\n",
    "plt.xlabel('Name')\n",
    "plt.ylabel('Combined Score')\n",
    "plt.title(f'Top {top_n} Games with Highest Combined Score')\n",
    "plt.xticks(rotation=45, ha='right')  # Rotate x-axis labels for better visibility\n",
    "plt.tight_layout()\n",
    "\n",
    "# Save the plot to a file as .jpg with bbox_inches='tight' (adjust the filename as needed)\n",
    "plt.savefig('topgames_combinedscore.jpg', bbox_inches='tight', dpi=150)\n",
    "\n",
    "# Show the plot\n",
    "plt.show()\n"
   ]
  },
  {
   "cell_type": "markdown",
   "metadata": {},
   "source": [
    "# Old code"
   ]
  },
  {
   "cell_type": "code",
   "execution_count": null,
   "metadata": {},
   "outputs": [],
   "source": [
    "from sklearn.feature_extraction.text import TfidfVectorizer\n",
    "from sklearn.neighbors import NearestNeighbors\n",
    "import pandas as pd\n",
    "\n",
    "def recommend_similar_games(game_name, data_frame):\n",
    "    from sklearn.feature_extraction.text import TfidfVectorizer\n",
    "    from sklearn.neighbors import NearestNeighbors\n",
    "    import pandas as pd\n",
    "    \n",
    "    #Review Ratio is the Number of Positive Reviews made on steam of a particular game divided by the total number of steam reviews for that game\n",
    "    games[\"Review Ratio\"]=(games[\"Positive\"]/(games[\"Positive\"]+games[\"Negative\"]))\n",
    "    games[\"Review Sum\"]=(games[\"Positive\"]+games[\"Negative\"])\n",
    "\n",
    "    #steam_total_reviews is the total number of reviews made for all games on steam\n",
    "    steam_total_reviews=sum(games['Review Sum'])\n",
    "    steam_total_reviews\n",
    "\n",
    "    #Combined Score is the # of positive reviews for a game divided by the total number of reviews for all games on steam\n",
    "    games['Combined Score'] = games['Review Ratio'] * (games['Review Sum']/steam_total_reviews)\n",
    "    \n",
    "    # Preprocess the data\n",
    "    data_frame['Genres'] = data_frame['Genres'].fillna('')\n",
    "    data_frame['Combined Score'] = data_frame['Combined Score'].fillna(0)\n",
    "    data_frame['Tags'] = data_frame['Tags'].fillna('')  # Add this line to handle missing Tags\n",
    "    data_frame['Features'] = data_frame['Genres'] + ' ' + data_frame['Combined Score'].astype(str) + ' ' + data_frame['Tags']\n",
    "\n",
    "    # Create a TF-IDF vectorizer for the combined features\n",
    "    tfidf_vectorizer_combined = TfidfVectorizer()\n",
    "    tfidf_matrix_combined = tfidf_vectorizer_combined.fit_transform(data_frame['Features'])\n",
    "\n",
    "    # Build a nearest neighbors model for combined features\n",
    "    knn_combined = NearestNeighbors(n_neighbors=30, metric='cosine')  # Increase n_neighbors to allow for more recommendations\n",
    "    knn_combined.fit(tfidf_matrix_combined)\n",
    "\n",
    "    recommended_games = set()\n",
    "\n",
    "    # Find the index of the given game in the DataFrame\n",
    "    game_index = data_frame[data_frame['Name'] == game_name].index[0]\n",
    "\n",
    "    # Use the nearest neighbors model to find the most similar games based on combined features\n",
    "    distances_combined, indices_combined = knn_combined.kneighbors(tfidf_matrix_combined[game_index])\n",
    "\n",
    "    # Get the 6 most similar games based on combined features\n",
    "    similar_game_indices_combined = indices_combined[0]\n",
    "    similar_games_combined = [data_frame.loc[i] for i in similar_game_indices_combined]\n",
    "\n",
    "    # Sort the recommendations by the \"Combined Score\" in descending order\n",
    "    similar_games_combined = sorted(similar_games_combined, key=lambda x: x['Combined Score'], reverse=True)\n",
    "\n",
    "    # Filter out the input games and any duplicates\n",
    "    unique_recommendations = [game for game in similar_games_combined if\n",
    "                              game['Name'] != game_name and game['Name'] not in input_games and game['Name'] not in recommended_games]\n",
    "\n",
    "    # Add unique game names to the set\n",
    "    recommended_games.update(game['Name'] for game in unique_recommendations[:6])\n",
    "\n",
    "    return pd.DataFrame(unique_recommendations[:6])\n",
    "\n",
    "# Example usage with three input games (up to 5)\n",
    "input_games = [\"Galactic Bowling\", \"Don't Drop the Bass\", \"Christmas Santa Troubles\"]\n",
    "recommended_games_df = recommend_similar_games(\"Galactic Bowling\", games)\n",
    "\n",
    "if not recommended_games_df.empty:\n",
    "    print(\"Recommended games:\")\n",
    "    for i, (_, game) in enumerate(recommended_games_df.iterrows()):\n",
    "        input_game_name = input_games[i % len(input_games)]\n",
    "        input_game_genres = games[games['Name'] == input_game_name]['Genres'].values[0]\n",
    "        input_game_tags = games[games['Name'] == input_game_name]['Tags'].values[0]\n",
    "        print(f\"Input Game {i + 1}: {input_game_name}, Genres: {input_game_genres}, Tags: {input_game_tags}, Recommendation {i + 1}: Name: {game['Name']}, Header image: {game['Header image']}, Genres: {game['Genres']}, Tags: {game['Tags']}, Combined Score: {game['Combined Score']}, Average playtime forever: {game['Average playtime forever']}\")\n",
    "else:\n",
    "    print(\"No recommendations found for the input game.\")"
   ]
  },
  {
   "cell_type": "markdown",
   "metadata": {},
   "source": [
    "This code is designed to recommend similar video games based on their genres and combined scores. It uses a TF-IDF vectorization and nearest neighbors approach to find games with similar features and scores. Here are the important steps in the code:\n",
    "\n",
    "1. **Data Preprocessing**: The code preprocesses the game data, specifically the 'Genres' and 'Combined Score' columns. It fills missing values in the 'Genres' column with empty strings and missing 'Combined Score' values with zeros. It also creates a new 'Features' column by combining 'Genres' and 'Combined Score' as strings.\n",
    "\n",
    "2. **TF-IDF Vectorization**: It creates a TF-IDF (Term Frequency-Inverse Document Frequency) vectorizer called `tfidf_vectorizer_combined`. This vectorizer is used to transform the 'Features' column into a numerical representation suitable for similarity calculations. It converts the text data into a numerical format that the machine learning model can work with.\n",
    "\n",
    "3. **Nearest Neighbors Model**: The code builds a nearest neighbors model named `knn_combined` using the NearestNeighbors class from scikit-learn. This model uses the cosine distance metric and is fitted with the TF-IDF transformed data. It is designed to find the most similar games based on the features and scores.\n",
    "\n",
    "4. **Recommendation Function**: The `recommend_similar_games` function takes a list of input games, and for each input game, it performs the following steps:\n",
    "   - Find the index of the given input game in the DataFrame.\n",
    "   - Use the nearest neighbors model to find the most similar games based on combined features.\n",
    "   - Sort the recommendations by the \"Combined Score\" in descending order.\n",
    "   - Filter out the input games themselves and any duplicates from previous recommendations.\n",
    "   - Append up to 5 unique recommendations to the `recommended_games` list.\n",
    "\n",
    "5. **Example Usage**: The code provides an example usage with three input games: \"Galactic Bowling,\" \"Circle of Sumo,\" and \"Dr. Tacocat.\" It then calls the `recommend_similar_games` function with these input games. The recommendations are printed, showing the input game and its top recommendations. If no recommendations are found, it displays a message indicating that no recommendations were found for the input games.\n",
    "\n",
    "The code ensures that there are up to 5 recommendations for each input game and that duplicates of input games or previous recommendations are filtered out, resulting in a list of unique game recommendations."
   ]
  },
  {
   "cell_type": "markdown",
   "metadata": {},
   "source": [
    "# Base Model (Improved Model Above)"
   ]
  },
  {
   "cell_type": "code",
   "execution_count": null,
   "metadata": {},
   "outputs": [],
   "source": [
    "# Preprocess the data\n",
    "games['Publishers'] = games['Publishers'].fillna('')\n",
    "games['Genres'] = games['Genres'].fillna('')\n",
    "games['Features'] = games['Publishers'] + ' ' + games['Genres']\n",
    "\n",
    "# Create a TF-IDF vectorizer for both combined features and genres\n",
    "tfidf_vectorizer_combined = TfidfVectorizer()\n",
    "tfidf_matrix_combined = tfidf_vectorizer_combined.fit_transform(games['Features'])\n",
    "tfidf_vectorizer_genres = TfidfVectorizer()\n",
    "tfidf_matrix_genres = tfidf_vectorizer_genres.fit_transform(games['Genres'])\n",
    "\n",
    "# Build nearest neighbors models for both combined features and genres\n",
    "knn_combined = NearestNeighbors(n_neighbors=6, metric='cosine')\n",
    "knn_genres = NearestNeighbors(n_neighbors=6, metric='cosine')\n",
    "knn_combined.fit(tfidf_matrix_combined)\n",
    "knn_genres.fit(tfidf_matrix_genres)\n",
    "\n",
    "# Function to recommend similar games with \"Header image\" and \"Genres\"\n",
    "def recommend_similar_games(game_name, games_df=games, knn_combined=knn_combined, knn_genres=knn_genres, tfidf_matrix_combined=tfidf_matrix_combined, tfidf_matrix_genres=tfidf_matrix_genres):\n",
    "    # Find the index of the given game in the DataFrame\n",
    "    game_index = games_df[games_df['Name'] == game_name].index[0]\n",
    "    \n",
    "    # Use the nearest neighbors model to find the most similar games for both combined and genres models\n",
    "    distances_combined, indices_combined = knn_combined.kneighbors(tfidf_matrix_combined[game_index])\n",
    "    distances_genres, indices_genres = knn_genres.kneighbors(tfidf_matrix_genres[game_index])\n",
    "    \n",
    "    # Exclude the input game itself from recommendations for both models\n",
    "    similar_game_indices_combined = indices_combined[0][1:]\n",
    "    similar_game_indices_genres = indices_genres[0][1:]\n",
    "    \n",
    "    # Get the 5 most similar games for both models\n",
    "    similar_games_combined = [games_df.loc[i] for i in similar_game_indices_combined]\n",
    "    similar_games_genres = [games_df.loc[i] for i in similar_game_indices_genres]\n",
    "    \n",
    "    # Check if the priority model (combined) has enough recommendations\n",
    "    if len(similar_games_combined) >= 5:\n",
    "        recommended_games = similar_games_combined[:5]\n",
    "    else:\n",
    "        # Combine recommendations from the priority model and genres model\n",
    "        combined_recommendations = similar_games_combined + similar_games_genres\n",
    "        \n",
    "        # Remove duplicates and return up to 5 recommendations\n",
    "        recommended_games = list(set(combined_recommendations))[:5]\n",
    "    \n",
    "    return pd.DataFrame(recommended_games)\n",
    "\n",
    "# Example usage\n",
    "input_game_name = \"Galactic Bowling\"\n",
    "recommended_games_df = recommend_similar_games(input_game_name)\n",
    "\n",
    "if not recommended_games_df.empty:\n",
    "    print(f\"For the game '{input_game_name}', 5 similar recommendations are:\")\n",
    "    for i, (_, game) in enumerate(recommended_games_df.iterrows()):\n",
    "        print(f\"{i + 1}. Name: {game['Name']}, Header image: {game['Header image']}, Genres: {game['Genres']}\")\n",
    "else:\n",
    "    print(f\"No recommendations found for the game '{input_game_name}'.\")\n"
   ]
  },
  {
   "cell_type": "markdown",
   "metadata": {},
   "source": [
    "Calculate the \"Review Ratio\" for each game.\n",
    "\n",
    "Consider both genres and the \"Review Ratio\" for recommendations, prioritizing genres.\n",
    "\n",
    "Rank the games based on the \"Review Ratio\" as a secondary factor.\n",
    "\n",
    "Ensure that the total number of reviews (positive + negative) is also considered to prevent overly biased recommendations based solely on \"Review Ratio.\""
   ]
  },
  {
   "cell_type": "code",
   "execution_count": null,
   "metadata": {},
   "outputs": [],
   "source": [
    "# Create a reverse index for the \"Review Sum\" column with the \"Name\" column\n",
    "review_sum_reverse_index = dict(zip(games['Name'], games['Review Sum']))\n",
    "game_name = \"Super Tennis Blast\"\n",
    "if game_name in review_sum_reverse_index:\n",
    "    review_sum = review_sum_reverse_index[game_name]\n",
    "    print(f\"Review Sum for '{game_name}': {review_sum}\")\n",
    "else:\n",
    "    print(f\"No review sum found for '{game_name}'\")\n"
   ]
  },
  {
   "cell_type": "code",
   "execution_count": null,
   "metadata": {},
   "outputs": [],
   "source": [
    "# Create a reverse index for the \"Review Sum\" column with the \"Name\" column\n",
    "review_sum_reverse_index = dict(zip(games['Name'], games['Genres']))\n",
    "game_name = \"Football Club Simulator - FCS #21\"\n",
    "if game_name in review_sum_reverse_index:\n",
    "    review_sum = review_sum_reverse_index[game_name]\n",
    "    print(f\"Review Sum for '{game_name}': {review_sum}\")\n",
    "else:\n",
    "    print(f\"Genres for '{game_name}'\")"
   ]
  },
  {
   "cell_type": "code",
   "execution_count": null,
   "metadata": {},
   "outputs": [],
   "source": [
    "type(games['Combined Score'])"
   ]
  }
 ],
 "metadata": {
  "kernelspec": {
   "display_name": "Python 3",
   "language": "python",
   "name": "python3"
  },
  "language_info": {
   "codemirror_mode": {
    "name": "ipython",
    "version": 3
   },
   "file_extension": ".py",
   "mimetype": "text/x-python",
   "name": "python",
   "nbconvert_exporter": "python",
   "pygments_lexer": "ipython3",
   "version": "3.6.4"
  }
 },
 "nbformat": 4,
 "nbformat_minor": 2
}
