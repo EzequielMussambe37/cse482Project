{
 "cells": [
  {
   "cell_type": "code",
   "execution_count": null,
   "metadata": {},
   "outputs": [],
   "source": [
    "#!pip install annoy"
   ]
  },
  {
   "cell_type": "code",
   "execution_count": 1,
   "metadata": {},
   "outputs": [],
   "source": [
    "import pandas as pd\n",
    "from sklearn.feature_extraction.text import TfidfVectorizer\n",
    "from sklearn.neighbors import NearestNeighbors\n",
    "\n",
    "# Read the CSV file into a DataFrame\n",
    "games = pd.read_csv(\"games.csv\")"
   ]
  },
  {
   "cell_type": "code",
   "execution_count": 2,
   "metadata": {},
   "outputs": [],
   "source": [
    "games.drop('Estimated owners', inplace=True, axis=1)\n",
    "games.drop('Peak CCU', inplace=True, axis=1)\n",
    "games.drop('Required age', inplace=True, axis=1)\n",
    "games.drop('DLC count', inplace=True, axis=1)\n",
    "games.drop('Supported languages', inplace=True, axis=1)\n",
    "games.drop('Full audio languages', inplace=True, axis=1)\n",
    "games.drop('Support email', inplace=True, axis=1)\n",
    "games.drop('Support url', inplace=True, axis=1)\n",
    "games.drop('Website', inplace=True, axis=1)\n",
    "games.drop('Windows', inplace=True, axis=1)\n",
    "games.drop('Mac', inplace=True, axis=1)\n",
    "games.drop('Linux', inplace=True, axis=1)\n",
    "games.drop('Screenshots', inplace=True, axis=1)\n",
    "games.drop('Movies', inplace=True, axis=1)\n",
    "games.drop('Achievements', inplace=True, axis=1)\n",
    "games.drop('Notes', inplace=True, axis=1)\n",
    "games.drop('Score rank', inplace=True, axis=1)\n",
    "games.drop('Recommendations', inplace=True, axis=1)\n",
    "games.drop('User score', inplace=True, axis=1)\n",
    "games.drop('Metacritic score', inplace=True, axis=1)\n",
    "games.drop('Metacritic url', inplace=True, axis=1)\n",
    "games.drop('Median playtime forever', inplace=True, axis=1)\n",
    "games.drop('Median playtime two weeks', inplace=True, axis=1)"
   ]
  },
  {
   "cell_type": "code",
   "execution_count": null,
   "metadata": {},
   "outputs": [],
   "source": []
  },
  {
   "cell_type": "code",
   "execution_count": null,
   "metadata": {},
   "outputs": [],
   "source": [
    "type(games['Reviews'])"
   ]
  },
  {
   "cell_type": "code",
   "execution_count": null,
   "metadata": {},
   "outputs": [],
   "source": [
    "games['Reviews']"
   ]
  },
  {
   "cell_type": "code",
   "execution_count": null,
   "metadata": {},
   "outputs": [],
   "source": [
    "games"
   ]
  },
  {
   "cell_type": "code",
   "execution_count": null,
   "metadata": {},
   "outputs": [],
   "source": [
    "import pandas as pd\n",
    "\n",
    "# Assuming you have a 'games' DataFrame\n",
    "\n",
    "# Count the number of zeros\n",
    "count_zeros = (games['Average playtime forever'] == 0).sum()\n",
    "\n",
    "# Count the number of non-zeros and non-NaNs\n",
    "count_non_zeros = (games['Average playtime forever'] != 0).sum()\n",
    "\n",
    "# Count the number of NaNs\n",
    "count_nans = games['Average playtime forever'].isna().sum()\n",
    "\n",
    "print(f\"Number of zeros: {count_zeros}\")\n",
    "print(f\"Number of non-zeros and non-NaNs: {count_non_zeros}\")\n",
    "print(f\"Number of NaNs: {count_nans}\")\n"
   ]
  },
  {
   "cell_type": "code",
   "execution_count": null,
   "metadata": {},
   "outputs": [],
   "source": [
    "import pandas as pd\n",
    "\n",
    "# Assuming you have a 'games' DataFrame\n",
    "\n",
    "# Count the number of zeros\n",
    "count_zeros = (games['Reviews'] == 0).sum()\n",
    "\n",
    "# Count the number of non-zeros and non-NaNs\n",
    "count_non_zeros = (games['Reviews'] != 0).sum()\n",
    "\n",
    "# Count the number of NaNs\n",
    "count_nans = games['Average playtime forever'].isna().sum()\n",
    "\n",
    "print(f\"Number of zeros: {count_zeros}\")\n",
    "print(f\"Number of non-zeros and non-NaNs: {count_non_zeros}\")\n",
    "print(f\"Number of NaNs: {count_nans}\")\n"
   ]
  },
  {
   "cell_type": "markdown",
   "metadata": {},
   "source": [
    "# Improved Model"
   ]
  },
  {
   "cell_type": "code",
   "execution_count": 3,
   "metadata": {},
   "outputs": [
    {
     "name": "stdout",
     "output_type": "stream",
     "text": [
      "Recommended games:\n",
      "Input Game: Galactic Bowling, Genres: Casual,Indie,Sports, Tags: Indie,Casual,Sports,Bowling, Recommendation 1: Name: HyperBowl, Header image: https://cdn.akamai.steamstatic.com/steam/apps/847530/header.jpg?t=1571090077, Genres: Action,Casual,Indie,Sports, Tags: Casual,Sports,Action,Indie,Bowling,Arcade,3D, Combined Score: 4.3007891044841015e-07, Average playtime forever: 0\n",
      "Input Game: Galactic Bowling, Genres: Casual,Indie,Sports, Tags: Indie,Casual,Sports,Bowling, Recommendation 2: Name: Don't Drop the Bass, Header image: https://cdn.akamai.steamstatic.com/steam/apps/471220/header.jpg?t=1582470274, Genres: Casual,Indie,Sports, Tags: Sports,Indie,Casual, Combined Score: 6.451183656726153e-08, Average playtime forever: 0\n",
      "Input Game: Galactic Bowling, Genres: Casual,Indie,Sports, Tags: Indie,Casual,Sports,Bowling, Recommendation 3: Name: Cosmic Kites, Header image: https://cdn.akamai.steamstatic.com/steam/apps/606720/header.jpg?t=1558493716, Genres: Action,Casual,Indie,Sports, Tags: Action,Indie,Casual,Sports, Combined Score: 6.451183656726153e-08, Average playtime forever: 0\n",
      "Input Game: Galactic Bowling, Genres: Casual,Indie,Sports, Tags: Indie,Casual,Sports,Bowling, Recommendation 4: Name: Christmas Santa Troubles, Header image: https://cdn.akamai.steamstatic.com/steam/apps/773120/header.jpg?t=1531380500, Genres: Action,Adventure,Casual,Indie,Sports, Tags: Adventure,Indie,Casual,Sports, Combined Score: 6.451183656726153e-08, Average playtime forever: 0\n",
      "Input Game: Galactic Bowling, Genres: Casual,Indie,Sports, Tags: Indie,Casual,Sports,Bowling, Recommendation 5: Name: Hot Runback - VR Runner, Header image: https://cdn.akamai.steamstatic.com/steam/apps/721400/header.jpg?t=1506580113, Genres: Action,Casual,Sports, Tags: Action,Casual,Sports,VR, Combined Score: 6.451183656726153e-08, Average playtime forever: 0\n",
      "Input Game: Galactic Bowling, Genres: Casual,Indie,Sports, Tags: Indie,Casual,Sports,Bowling, Recommendation 6: Name: VR Mini Bowling 2, Header image: https://cdn.akamai.steamstatic.com/steam/apps/1257190/header.jpg?t=1586533267, Genres: Casual,Indie,Sports, Tags: Indie,Casual,Sports,VR,Bowling,Mini Golf, Combined Score: 3.2255918283630764e-08, Average playtime forever: 0\n"
     ]
    }
   ],
   "source": [
    "#Review Ratio is the Number of Positive Reviews made on steam of a particular game divided by the total number of steam reviews for that game\n",
    "games[\"Review Ratio\"]=(games[\"Positive\"]/(games[\"Positive\"]+games[\"Negative\"]))\n",
    "games[\"Review Sum\"]=(games[\"Positive\"]+games[\"Negative\"])\n",
    "\n",
    "#steam_total_reviews is the total number of reviews made for all games on steam\n",
    "steam_total_reviews=sum(games['Review Sum'])\n",
    "steam_total_reviews\n",
    "\n",
    "#Combined Score is the # of positive reviews for a game divided by the total number of reviews for all games on steam\n",
    "games['Combined Score'] = games['Review Ratio'] * (games['Review Sum']/steam_total_reviews)\n",
    "from sklearn.feature_extraction.text import TfidfVectorizer\n",
    "from sklearn.neighbors import NearestNeighbors\n",
    "import pandas as pd\n",
    "\n",
    "# Preprocess the data\n",
    "games['Genres'] = games['Genres'].fillna('')\n",
    "games['Combined Score'] = games['Combined Score'].fillna(0)  \n",
    "games['Tags'] = games['Tags'].fillna('')  # Add this line to handle missing Tags\n",
    "games['Features'] = games['Genres'] + ' ' + games['Combined Score'].astype(str) + ' ' + games['Tags']\n",
    "\n",
    "# Create a TF-IDF vectorizer for the combined features\n",
    "tfidf_vectorizer_combined = TfidfVectorizer()\n",
    "tfidf_matrix_combined = tfidf_vectorizer_combined.fit_transform(games['Features'])\n",
    "\n",
    "# Build a nearest neighbors model for combined features\n",
    "knn_combined = NearestNeighbors(n_neighbors=30, metric='cosine')  # Increase n_neighbors to allow for more recommendations\n",
    "knn_combined.fit(tfidf_matrix_combined)\n",
    "\n",
    "# Function to recommend similar games with \"Genres,\" \"Combined Score,\" and \"Tags\" for multiple input games\n",
    "def recommend_similar_games(input_games, games_df=games, knn_combined=knn_combined, tfidf_matrix_combined=tfidf_matrix_combined):\n",
    "    recommended_games = []\n",
    "\n",
    "    for game_name in input_games:\n",
    "        # Find the index of the given game in the DataFrame\n",
    "        game_index = games_df[games_df['Name'] == game_name].index[0]\n",
    "\n",
    "        # Use the nearest neighbors model to find the most similar games based on combined features\n",
    "        distances_combined, indices_combined = knn_combined.kneighbors(tfidf_matrix_combined[game_index])\n",
    "\n",
    "        # Get the 6 most similar games based on combined features\n",
    "        similar_game_indices_combined = indices_combined[0]\n",
    "        similar_games_combined = [games_df.loc[i] for i in similar_game_indices_combined]\n",
    "\n",
    "        # Sort the recommendations by the \"Combined Score\" in descending order\n",
    "        similar_games_combined = sorted(similar_games_combined, key=lambda x: x['Combined Score'], reverse=True)\n",
    "\n",
    "        # Filter out the input games themselves and any duplicates\n",
    "        unique_recommendations = [game for game in similar_games_combined if game['Name'] not in input_games and game['Name'] not in [g['Name'] for g in recommended_games]]\n",
    "\n",
    "        # Append up to 6 unique recommendations\n",
    "        recommended_games.extend(unique_recommendations[:6])\n",
    "\n",
    "    return pd.DataFrame(recommended_games[:6])\n",
    "\n",
    "# Example usage with three input games (up to 5)\n",
    "input_games = [\"Galactic Bowling\"]\n",
    "recommended_games_df = recommend_similar_games(input_games)\n",
    "\n",
    "if not recommended_games_df.empty:\n",
    "    print(\"Recommended games:\")\n",
    "    for i, (_, game) in enumerate(recommended_games_df.iterrows()):\n",
    "        input_game_name = input_games[i % len(input_games)]\n",
    "        input_game_genres = games[games['Name'] == input_game_name]['Genres'].values[0]\n",
    "        input_game_tags = games[games['Name'] == input_game_name]['Tags'].values[0]\n",
    "        print(f\"Input Game: {input_game_name}, Genres: {input_game_genres}, Tags: {input_game_tags}, Recommendation {i + 1}: Name: {game['Name']}, Header image: {game['Header image']}, Genres: {game['Genres']}, Tags: {game['Tags']}, Combined Score: {game['Combined Score']}, Average playtime forever: {game['Average playtime forever']}\")\n",
    "else:\n",
    "    print(\"No recommendations found for the input games.\")\n"
   ]
  },
  {
   "cell_type": "markdown",
   "metadata": {},
   "source": [
    "This code is designed to recommend similar video games based on their genres and combined scores. It uses a TF-IDF vectorization and nearest neighbors approach to find games with similar features and scores. Here are the important steps in the code:\n",
    "\n",
    "1. **Data Preprocessing**: The code preprocesses the game data, specifically the 'Genres' and 'Combined Score' columns. It fills missing values in the 'Genres' column with empty strings and missing 'Combined Score' values with zeros. It also creates a new 'Features' column by combining 'Genres' and 'Combined Score' as strings.\n",
    "\n",
    "2. **TF-IDF Vectorization**: It creates a TF-IDF (Term Frequency-Inverse Document Frequency) vectorizer called `tfidf_vectorizer_combined`. This vectorizer is used to transform the 'Features' column into a numerical representation suitable for similarity calculations. It converts the text data into a numerical format that the machine learning model can work with.\n",
    "\n",
    "3. **Nearest Neighbors Model**: The code builds a nearest neighbors model named `knn_combined` using the NearestNeighbors class from scikit-learn. This model uses the cosine distance metric and is fitted with the TF-IDF transformed data. It is designed to find the most similar games based on the features and scores.\n",
    "\n",
    "4. **Recommendation Function**: The `recommend_similar_games` function takes a list of input games, and for each input game, it performs the following steps:\n",
    "   - Find the index of the given input game in the DataFrame.\n",
    "   - Use the nearest neighbors model to find the most similar games based on combined features.\n",
    "   - Sort the recommendations by the \"Combined Score\" in descending order.\n",
    "   - Filter out the input games themselves and any duplicates from previous recommendations.\n",
    "   - Append up to 5 unique recommendations to the `recommended_games` list.\n",
    "\n",
    "5. **Example Usage**: The code provides an example usage with three input games: \"Galactic Bowling,\" \"Circle of Sumo,\" and \"Dr. Tacocat.\" It then calls the `recommend_similar_games` function with these input games. The recommendations are printed, showing the input game and its top recommendations. If no recommendations are found, it displays a message indicating that no recommendations were found for the input games.\n",
    "\n",
    "The code ensures that there are up to 5 recommendations for each input game and that duplicates of input games or previous recommendations are filtered out, resulting in a list of unique game recommendations."
   ]
  },
  {
   "cell_type": "markdown",
   "metadata": {},
   "source": [
    "# Base Model (Improved Model Below)"
   ]
  },
  {
   "cell_type": "code",
   "execution_count": null,
   "metadata": {},
   "outputs": [],
   "source": [
    "# Preprocess the data\n",
    "games['Publishers'] = games['Publishers'].fillna('')\n",
    "games['Genres'] = games['Genres'].fillna('')\n",
    "games['Features'] = games['Publishers'] + ' ' + games['Genres']\n",
    "\n",
    "# Create a TF-IDF vectorizer for both combined features and genres\n",
    "tfidf_vectorizer_combined = TfidfVectorizer()\n",
    "tfidf_matrix_combined = tfidf_vectorizer_combined.fit_transform(games['Features'])\n",
    "tfidf_vectorizer_genres = TfidfVectorizer()\n",
    "tfidf_matrix_genres = tfidf_vectorizer_genres.fit_transform(games['Genres'])\n",
    "\n",
    "# Build nearest neighbors models for both combined features and genres\n",
    "knn_combined = NearestNeighbors(n_neighbors=6, metric='cosine')\n",
    "knn_genres = NearestNeighbors(n_neighbors=6, metric='cosine')\n",
    "knn_combined.fit(tfidf_matrix_combined)\n",
    "knn_genres.fit(tfidf_matrix_genres)\n",
    "\n",
    "# Function to recommend similar games with \"Header image\" and \"Genres\"\n",
    "def recommend_similar_games(game_name, games_df=games, knn_combined=knn_combined, knn_genres=knn_genres, tfidf_matrix_combined=tfidf_matrix_combined, tfidf_matrix_genres=tfidf_matrix_genres):\n",
    "    # Find the index of the given game in the DataFrame\n",
    "    game_index = games_df[games_df['Name'] == game_name].index[0]\n",
    "    \n",
    "    # Use the nearest neighbors model to find the most similar games for both combined and genres models\n",
    "    distances_combined, indices_combined = knn_combined.kneighbors(tfidf_matrix_combined[game_index])\n",
    "    distances_genres, indices_genres = knn_genres.kneighbors(tfidf_matrix_genres[game_index])\n",
    "    \n",
    "    # Exclude the input game itself from recommendations for both models\n",
    "    similar_game_indices_combined = indices_combined[0][1:]\n",
    "    similar_game_indices_genres = indices_genres[0][1:]\n",
    "    \n",
    "    # Get the 5 most similar games for both models\n",
    "    similar_games_combined = [games_df.loc[i] for i in similar_game_indices_combined]\n",
    "    similar_games_genres = [games_df.loc[i] for i in similar_game_indices_genres]\n",
    "    \n",
    "    # Check if the priority model (combined) has enough recommendations\n",
    "    if len(similar_games_combined) >= 5:\n",
    "        recommended_games = similar_games_combined[:5]\n",
    "    else:\n",
    "        # Combine recommendations from the priority model and genres model\n",
    "        combined_recommendations = similar_games_combined + similar_games_genres\n",
    "        \n",
    "        # Remove duplicates and return up to 5 recommendations\n",
    "        recommended_games = list(set(combined_recommendations))[:5]\n",
    "    \n",
    "    return pd.DataFrame(recommended_games)\n",
    "\n",
    "# Example usage\n",
    "input_game_name = \"Galactic Bowling\"\n",
    "recommended_games_df = recommend_similar_games(input_game_name)\n",
    "\n",
    "if not recommended_games_df.empty:\n",
    "    print(f\"For the game '{input_game_name}', 5 similar recommendations are:\")\n",
    "    for i, (_, game) in enumerate(recommended_games_df.iterrows()):\n",
    "        print(f\"{i + 1}. Name: {game['Name']}, Header image: {game['Header image']}, Genres: {game['Genres']}\")\n",
    "else:\n",
    "    print(f\"No recommendations found for the game '{input_game_name}'.\")\n"
   ]
  },
  {
   "cell_type": "markdown",
   "metadata": {},
   "source": [
    "Calculate the \"Review Ratio\" for each game.\n",
    "\n",
    "Consider both genres and the \"Review Ratio\" for recommendations, prioritizing genres.\n",
    "\n",
    "Rank the games based on the \"Review Ratio\" as a secondary factor.\n",
    "\n",
    "Ensure that the total number of reviews (positive + negative) is also considered to prevent overly biased recommendations based solely on \"Review Ratio.\""
   ]
  },
  {
   "cell_type": "code",
   "execution_count": null,
   "metadata": {},
   "outputs": [],
   "source": [
    "# Create a reverse index for the \"Review Sum\" column with the \"Name\" column\n",
    "review_sum_reverse_index = dict(zip(games['Name'], games['Review Sum']))\n",
    "\n",
    "# Now you can access the review sum for a game by its name\n",
    "game_name = \"Super Tennis Blast\"\n",
    "if game_name in review_sum_reverse_index:\n",
    "    review_sum = review_sum_reverse_index[game_name]\n",
    "    print(f\"Review Sum for '{game_name}': {review_sum}\")\n",
    "else:\n",
    "    print(f\"No review sum found for '{game_name}'\")\n"
   ]
  },
  {
   "cell_type": "code",
   "execution_count": null,
   "metadata": {},
   "outputs": [],
   "source": [
    "# Create a reverse index for the \"Review Sum\" column with the \"Name\" column\n",
    "review_sum_reverse_index = dict(zip(games['Name'], games['Genres']))\n",
    "\n",
    "# Now you can access the review sum for a game by its name\n",
    "game_name = \"Football Club Simulator - FCS #21\"\n",
    "if game_name in review_sum_reverse_index:\n",
    "    review_sum = review_sum_reverse_index[game_name]\n",
    "    print(f\"Review Sum for '{game_name}': {review_sum}\")\n",
    "else:\n",
    "    print(f\"Genres for '{game_name}'\")"
   ]
  },
  {
   "cell_type": "code",
   "execution_count": null,
   "metadata": {},
   "outputs": [],
   "source": [
    "type(games['Combined Score'])"
   ]
  }
 ],
 "metadata": {
  "kernelspec": {
   "display_name": "Python 3",
   "language": "python",
   "name": "python3"
  },
  "language_info": {
   "codemirror_mode": {
    "name": "ipython",
    "version": 3
   },
   "file_extension": ".py",
   "mimetype": "text/x-python",
   "name": "python",
   "nbconvert_exporter": "python",
   "pygments_lexer": "ipython3",
   "version": "3.6.4"
  }
 },
 "nbformat": 4,
 "nbformat_minor": 2
}
